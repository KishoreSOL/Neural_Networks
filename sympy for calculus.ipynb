{
 "cells": [
  {
   "cell_type": "markdown",
   "id": "a0e50f73-4587-4851-8513-96bdeaa8f948",
   "metadata": {},
   "source": [
    "sympy for implementing calculus "
   ]
  },
  {
   "cell_type": "code",
   "execution_count": 2,
   "id": "3a46961a-9843-4dc1-ba6d-b06f0ca72601",
   "metadata": {
    "tags": []
   },
   "outputs": [],
   "source": [
    "import sympy"
   ]
  },
  {
   "cell_type": "code",
   "execution_count": 3,
   "id": "3f59984b-d002-4503-a014-596f6ecbdd90",
   "metadata": {},
   "outputs": [],
   "source": [
    "J,w=sympy.symbols('J,w')"
   ]
  },
  {
   "cell_type": "code",
   "execution_count": 7,
   "id": "e49bae49-b9e5-4102-9b54-29a50b90aad2",
   "metadata": {},
   "outputs": [
    {
     "data": {
      "text/latex": [
       "$\\displaystyle w^{3}$"
      ],
      "text/plain": [
       "w**3"
      ]
     },
     "execution_count": 7,
     "metadata": {},
     "output_type": "execute_result"
    }
   ],
   "source": [
    "J=w**3\n",
    "J"
   ]
  },
  {
   "cell_type": "code",
   "execution_count": 8,
   "id": "a0ff64da-20bc-4ffd-b3a9-92089677a297",
   "metadata": {},
   "outputs": [
    {
     "data": {
      "text/latex": [
       "$\\displaystyle 3 w^{2}$"
      ],
      "text/plain": [
       "3*w**2"
      ]
     },
     "execution_count": 8,
     "metadata": {},
     "output_type": "execute_result"
    }
   ],
   "source": [
    "dj_dw=sympy.diff(J,w)\n",
    "dj_dw"
   ]
  },
  {
   "cell_type": "code",
   "execution_count": 11,
   "id": "47622437-90ba-4034-918c-d93ff4ec2d08",
   "metadata": {
    "tags": []
   },
   "outputs": [
    {
     "data": {
      "text/latex": [
       "$\\displaystyle 3 w^{2}$"
      ],
      "text/plain": [
       "3*w**2"
      ]
     },
     "execution_count": 11,
     "metadata": {},
     "output_type": "execute_result"
    }
   ],
   "source": [
    "dj_dw.subs([(w,2)])\n",
    "dj_dw"
   ]
  },
  {
   "cell_type": "code",
   "execution_count": null,
   "id": "2de37983-17dd-49aa-9b06-45d7b393959d",
   "metadata": {},
   "outputs": [],
   "source": []
  },
  {
   "cell_type": "code",
   "execution_count": null,
   "id": "63aa49ce-faef-4787-a84e-2a27239914e2",
   "metadata": {},
   "outputs": [],
   "source": []
  }
 ],
 "metadata": {
  "kernelspec": {
   "display_name": "Python 3 (ipykernel)",
   "language": "python",
   "name": "python3"
  },
  "language_info": {
   "codemirror_mode": {
    "name": "ipython",
    "version": 3
   },
   "file_extension": ".py",
   "mimetype": "text/x-python",
   "name": "python",
   "nbconvert_exporter": "python",
   "pygments_lexer": "ipython3",
   "version": "3.9.13"
  }
 },
 "nbformat": 4,
 "nbformat_minor": 5
}
