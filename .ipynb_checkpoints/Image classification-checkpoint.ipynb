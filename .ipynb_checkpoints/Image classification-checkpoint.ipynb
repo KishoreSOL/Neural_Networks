{
 "cells": [
  {
   "cell_type": "markdown",
   "id": "5d8ca690-38d1-489d-a1be-70ca56fa8a2c",
   "metadata": {},
   "source": [
    "IMAGE CLASSIFICATION USING NEURAL NETWORKS \n"
   ]
  },
  {
   "cell_type": "markdown",
   "id": "18685ef4-058c-4537-acfa-8f6dd7f2ec29",
   "metadata": {},
   "source": [
    "Importing the essential Libraries"
   ]
  },
  {
   "cell_type": "code",
   "execution_count": 1,
   "id": "1405ce6b-1d50-4f23-94da-1e51151405d8",
   "metadata": {
    "tags": []
   },
   "outputs": [],
   "source": [
    "import numpy as np\n",
    "import matplotlib.pyplot as plt\n",
    "import pandas as pd\n",
    "import tensorflow as tf"
   ]
  },
  {
   "cell_type": "code",
   "execution_count": null,
   "id": "9336ab4d-262e-4aeb-bb15-f9ea00875c88",
   "metadata": {},
   "outputs": [],
   "source": []
  }
 ],
 "metadata": {
  "kernelspec": {
   "display_name": "Python 3 (ipykernel)",
   "language": "python",
   "name": "python3"
  },
  "language_info": {
   "codemirror_mode": {
    "name": "ipython",
    "version": 3
   },
   "file_extension": ".py",
   "mimetype": "text/x-python",
   "name": "python",
   "nbconvert_exporter": "python",
   "pygments_lexer": "ipython3",
   "version": "3.9.18"
  }
 },
 "nbformat": 4,
 "nbformat_minor": 5
}
