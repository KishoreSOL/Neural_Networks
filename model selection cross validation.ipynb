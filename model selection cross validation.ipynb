{
 "cells": [
  {
   "cell_type": "markdown",
   "id": "2d3165bb-b399-47fe-b1ab-74b0771b716a",
   "metadata": {},
   "source": [
    " MODEL EVALUATION AND SELECTION \n",
    " "
   ]
  },
  {
   "cell_type": "markdown",
   "id": "a65190db-b0d7-4313-bace-0000a31e1fa9",
   "metadata": {},
   "source": [
    "USING CROSS VALIDATION DATA SET\n"
   ]
  },
  {
   "cell_type": "code",
   "execution_count": 2,
   "id": "2b664fb0-ac2f-4ac1-93c5-a2c338c0b652",
   "metadata": {
    "tags": []
   },
   "outputs": [],
   "source": [
    "from sklearn.linear_model import LinearRegression\n",
    "import numpy as np\n",
    "import matplotlib.pyplot as plt"
   ]
  },
  {
   "cell_type": "code",
   "execution_count": null,
   "id": "07614eec-69fb-47db-bda8-dc7fc4df84a7",
   "metadata": {},
   "outputs": [],
   "source": []
  }
 ],
 "metadata": {
  "kernelspec": {
   "display_name": "Python 3 (ipykernel)",
   "language": "python",
   "name": "python3"
  },
  "language_info": {
   "codemirror_mode": {
    "name": "ipython",
    "version": 3
   },
   "file_extension": ".py",
   "mimetype": "text/x-python",
   "name": "python",
   "nbconvert_exporter": "python",
   "pygments_lexer": "ipython3",
   "version": "3.9.13"
  }
 },
 "nbformat": 4,
 "nbformat_minor": 5
}
