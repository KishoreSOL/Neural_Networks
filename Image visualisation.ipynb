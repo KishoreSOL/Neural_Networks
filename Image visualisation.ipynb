{
 "cells": [
  {
   "cell_type": "markdown",
   "id": "14a3f3ed-f110-4de8-aef3-9d25725235f6",
   "metadata": {},
   "source": [
    "CODE TO VISUALISE AN IMAGE"
   ]
  },
  {
   "cell_type": "code",
   "execution_count": 1,
   "id": "0dfccb4d-c1bc-45b8-a3ea-72bd4796f346",
   "metadata": {
    "tags": []
   },
   "outputs": [
    {
     "data": {
      "image/png": "[encoded data removed]",
      "text/plain": [
       "<Figure size 640x480 with 10 Axes>"
      ]
     },
     "metadata": {},
     "output_type": "display_data"
    }
   ],
   "source": [
    "import numpy as np\n",
    "import matplotlib.pyplot as plt\n",
    "\n",
    "# Set a seed for reproducibility\n",
    "np.random.seed(42)\n",
    "\n",
    "# Function to generate a random image\n",
    "def generate_random_image(size):\n",
    "    return np.random.randint(0, 256, size=(size, size), dtype=np.uint8)\n",
    "\n",
    "# Number of images to generate\n",
    "num_images = 10\n",
    "\n",
    "# Size of each image\n",
    "image_size = 3\n",
    "\n",
    "# Generate and display the images\n",
    "for i in range(num_images):\n",
    "    image_data = generate_random_image(image_size)\n",
    "\n",
    "    # Display the image\n",
    "    plt.subplot(2, 5, i + 1)\n",
    "    plt.imshow(image_data, cmap='gray', vmin=0, vmax=255)\n",
    "    plt.axis('off')\n",
    "\n",
    "plt.show()\n"
   ]
  },
  {
   "cell_type": "code",
   "execution_count": 2,
   "id": "444d4cda-f25b-4436-a399-cca38b034e0e",
   "metadata": {
    "tags": []
   },
   "outputs": [
    {
     "data": {
      "image/png": "[encoded data removed]",
      "text/plain": [
       "<Figure size 640x480 with 1 Axes>"
      ]
     },
     "metadata": {},
     "output_type": "display_data"
    }
   ],
   "source": [
    "import numpy as np\n",
    "import matplotlib.pyplot as plt\n",
    "\n",
    "# Create a 5x5 image with the numeric value 1\n",
    "image_data = np.zeros((5, 5))\n",
    "image_data[1, 2] = 1 \n",
    "image_data[2, 2] = 1\n",
    "image_data[3, 2] = 1 # Set the center pixel to 1\n",
    "\n",
    "# Display the image\n",
    "plt.imshow(image_data, cmap='gray', vmin=0, vmax=1)\n",
    "plt.title('Numeric Value: 1')\n",
    "plt.axis('off')\n",
    "plt.show()"
   ]
  },
  {
   "cell_type": "code",
   "execution_count": null,
   "id": "2695a1ed-e254-4821-a281-9ea79a358b79",
   "metadata": {
    "tags": []
   },
   "outputs": [],
   "source": [
    " "
   ]
  },
  {
   "cell_type": "code",
   "execution_count": null,
   "id": "ea2b8435-5ca6-405e-ada2-e84d53d6af0b",
   "metadata": {},
   "outputs": [],
   "source": []
  }
 ],
 "metadata": {
  "kernelspec": {
   "display_name": "Python 3 (ipykernel)",
   "language": "python",
   "name": "python3"
  },
  "language_info": {
   "codemirror_mode": {
    "name": "ipython",
    "version": 3
   },
   "file_extension": ".py",
   "mimetype": "text/x-python",
   "name": "python",
   "nbconvert_exporter": "python",
   "pygments_lexer": "ipython3",
   "version": "3.9.13"
  }
 },
 "nbformat": 4,
 "nbformat_minor": 5
}
